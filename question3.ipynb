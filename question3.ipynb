{
 "cells": [
  {
   "cell_type": "markdown",
   "metadata": {},
   "source": [
    "# Question 3\n",
    "\n",
    "For question 3 I would build an simple API with two GET methods to pull the data from an RDS database then wrap that inside a Docker container.\n",
    "This could be taken further by connecting it to something like PowerBI to visualise that data.\n",
    "\n",
    "Unfortunately I had run out of time to complete this. "
   ]
  }
 ],
 "metadata": {
  "language_info": {
   "name": "python"
  }
 },
 "nbformat": 4,
 "nbformat_minor": 2
}
